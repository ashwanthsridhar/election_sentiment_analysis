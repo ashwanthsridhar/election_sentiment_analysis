{
 "cells": [
  {
   "cell_type": "code",
   "execution_count": null,
   "id": "a00475a7",
   "metadata": {},
   "outputs": [],
   "source": [
    "import boto3\n",
    "import pandas as pd\n",
    "import json\n",
    "from configparser import ConfigParser\n",
    "from langdetect import detect\n",
    "import re"
   ]
  },
  {
   "cell_type": "code",
   "execution_count": null,
   "id": "4e2e7e0a",
   "metadata": {},
   "outputs": [],
   "source": [
    "parser = ConfigParser(interpolation=None)\n",
    "parser.read('config.ini')"
   ]
  },
  {
   "cell_type": "code",
   "execution_count": null,
   "id": "47e18f9c",
   "metadata": {},
   "outputs": [],
   "source": [
    "s3 = boto3.resource(\n",
    "    service_name = 's3',\n",
    "    region_name = 'us-east-2',\n",
    "    aws_access_key_id = parser.get('passwords', 'key'),\n",
    "    aws_secret_access_key = parser.get('passwords', 'secret_key')\n",
    ")"
   ]
  },
  {
   "cell_type": "code",
   "execution_count": null,
   "id": "5d20a81f",
   "metadata": {},
   "outputs": [],
   "source": [
    "biden_s3 = s3.Bucket('my-news-titles-data-bucket').Object('biden_news.json').get()\n",
    "\n",
    "biden_data = biden_s3['Body'].read().decode('utf-8')\n",
    "\n",
    "biden_parsed_data = json.loads(biden_data)\n",
    "\n",
    "# Initialize an empty list to hold the rows\n",
    "biden_rows = []\n",
    "\n",
    "# Loop through the parsed data and create rows for the DataFrame\n",
    "for entry in biden_parsed_data:\n",
    "    date = entry['date']\n",
    "    for title in entry['titles']:\n",
    "        biden_rows.append({'Date': date, 'Title': title})\n",
    "\n",
    "# Create the DataFrame from the rows\n",
    "biden = pd.DataFrame(biden_rows)\n",
    "biden"
   ]
  },
  {
   "cell_type": "code",
   "execution_count": null,
   "id": "b9388cad",
   "metadata": {},
   "outputs": [],
   "source": [
    "trump_s3 = s3.Bucket('my-news-titles-data-bucket').Object('trump_news.json').get()\n",
    "\n",
    "trump_data = trump_s3['Body'].read().decode('utf-8')\n",
    "\n",
    "trump_parsed_data = json.loads(trump_data)\n",
    "\n",
    "# Initialize an empty list to hold the rows\n",
    "trump_rows = []\n",
    "\n",
    "# Loop through the parsed data and create rows for the DataFrame\n",
    "for entry in trump_parsed_data:\n",
    "    date = entry['date']\n",
    "    for title in entry['titles']:\n",
    "        trump_rows.append({'Date': date, 'Title': title})\n",
    "\n",
    "# Create the DataFrame from the rows\n",
    "trump = pd.DataFrame(trump_rows)\n",
    "trump"
   ]
  },
  {
   "cell_type": "code",
   "execution_count": null,
   "id": "b9db4cc0",
   "metadata": {},
   "outputs": [],
   "source": []
  },
  {
   "cell_type": "code",
   "execution_count": null,
   "id": "b90e4a22",
   "metadata": {},
   "outputs": [],
   "source": []
  }
 ],
 "metadata": {
  "kernelspec": {
   "display_name": "Python 3 (ipykernel)",
   "language": "python",
   "name": "python3"
  },
  "language_info": {
   "codemirror_mode": {
    "name": "ipython",
    "version": 3
   },
   "file_extension": ".py",
   "mimetype": "text/x-python",
   "name": "python",
   "nbconvert_exporter": "python",
   "pygments_lexer": "ipython3",
   "version": "3.9.7"
  }
 },
 "nbformat": 4,
 "nbformat_minor": 5
}
